{
 "cells": [
  {
   "cell_type": "markdown",
   "metadata": {},
   "source": [
    "# Load packages and data"
   ]
  },
  {
   "cell_type": "code",
   "execution_count": null,
   "metadata": {},
   "outputs": [],
   "source": [
    "import csv\n",
    "import re\n",
    "import os\n",
    "import pandas as pd\n",
    "import numpy as np\n",
    "from ckonlpy.tag import Twitter\n",
    "from pykospacing import Spacing\n",
    "from tqdm import tqdm\n",
    "from hanspell import spell_checker\n",
    "\n",
    "spacing = Spacing()\n",
    "tagpos= Twitter()"
   ]
  },
  {
   "cell_type": "code",
   "execution_count": null,
   "metadata": {},
   "outputs": [],
   "source": [
    "stopwords_csv = pd.read_csv(\"https://raw.githubusercontent.com/yoonkt200/FastCampusDataset/master/korean_stopwords.txt\").values.tolist()\n",
    "stopwords = [i[0] for i in stopwords_csv]\n",
    "\n",
    "tagpos.add_dictionary(['단원','차시','교과서','지도서','학습지','아이들','꾸미기','여러가지','아꿈선','프레파라트', '가운데','테이프','움직임','가운데','프레젠테이션', '하이클래스','실관','실험관찰'], 'Noun')\n"
   ]
  },
  {
   "cell_type": "code",
   "execution_count": null,
   "metadata": {},
   "outputs": [],
   "source": [
    "def my_tokenizer(doc):\n",
    "    return [token for token, pos in tagpos.pos(doc, norm=True, stem=True) if pos in ['Noun','adverb'] and (len(token) > 1)]"
   ]
  },
  {
   "cell_type": "code",
   "execution_count": null,
   "metadata": {},
   "outputs": [],
   "source": [
    "def extract_num_reply(test_list):\n",
    "    result = [x[3:4] for x in test_list]\n",
    "    return result"
   ]
  },
  {
   "cell_type": "code",
   "execution_count": null,
   "metadata": {},
   "outputs": [],
   "source": [
    "def pre_processing(filename, rules=None):\n",
    "\n",
    "    indimath = pd.read_excel(filename, engine='openpyxl')\n",
    "    \n",
    "    indimath['numreply']= extract_num_reply(indimath['reply'])\n",
    "\n",
    "    #conbining 'title' and 'post text' into 'document'\n",
    "    indimath['document'] = indimath['title'].map(str) + \" \"+ indimath['content']\n",
    "    \n",
    "    #clean text\n",
    "    indimath['document'] = indimath['document'].str.replace(\"[^ㄱ-ㅎㅏ-ㅣ가-힣;.!? ]\",\" \") \n",
    "    indimath['document'] = indimath['document'].str.replace('[\\s]{2,}', \" \")\n",
    "    indimath.loc[indimath['document']==\".\", \"document\"] = \"\"\n",
    "    indimath['document'] =indimath['document'].replace(\"\", np.nan, inplace=True)\n",
    "    indimath = indimath.dropna(axis = 0) \n",
    "\n",
    "    #spacing\n",
    "    indimath['document'] = indimath['document'].apply(spacing)\n",
    "\n",
    "    #spell checker\n",
    "    for i in tqdm(range(len(indimath))):\n",
    "        try:\n",
    "            result = spell_checker.check(indimath['document'][i])\n",
    "            indimath['document'][i] = result.as_dict()['checked']\n",
    "        except:\n",
    "            pass\n",
    "\n",
    "    #tokenization\n",
    "    inditext = []\n",
    "    for sentence in tqdm(indimath['text']):    \n",
    "        tokenized_sentence = my_tokenizer(sentence)\n",
    "        stopwords_removed = [word for word in tokenized_sentence if word not in stopwords]\n",
    "        inditext.append(stopwords_removed)\n",
    "\n",
    "    indimath['tokenized'] = inditext\n",
    "\n",
    "    tokenized_words = inditext.apply(lambda x: ','.join(map(str, x)))\n",
    "    tokenized_list = tokenized_words.tolist()\n",
    "\n",
    "    indimath['list_token'] = tokenized_list\n",
    "    \n",
    "    return indimath\n",
    "\n"
   ]
  },
  {
   "cell_type": "code",
   "execution_count": null,
   "metadata": {},
   "outputs": [],
   "source": [
    "filename = 'indimath.xlsx'\n",
    "\n",
    "pp_inditext = pre_processing(filename)"
   ]
  }
 ],
 "metadata": {
  "interpreter": {
   "hash": "7703f9b00bbd9eabf6b5dbd8e2e28e3def65628c7caa8b5bd7a5214360b62133"
  },
  "kernelspec": {
   "display_name": "Python 3.8.12 64-bit ('my_python_env': conda)",
   "name": "python3"
  },
  "language_info": {
   "name": "python",
   "version": ""
  },
  "orig_nbformat": 4
 },
 "nbformat": 4,
 "nbformat_minor": 2
}